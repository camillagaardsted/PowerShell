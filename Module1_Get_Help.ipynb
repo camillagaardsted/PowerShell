{
 "cells": [
  {
   "attachments": {
    "image.png": {
     "image/png": "[encoded data removed]"
    }
   },
   "cell_type": "markdown",
   "id": "0b7c57c4-e682-4948-92cd-898c3dede968",
   "metadata": {
    "microsoft": {
     "language": "python",
     "language_group": "synapse_pyspark"
    },
    "nteract": {
     "transient": {
      "deleting": false
     }
    }
   },
   "source": [
    "# Lab Module 1 PowerShell Get-Help exercises\n",
    "\n",
    "These exercises will train you in the basic and fundamental **help** cmdlets in PowerShell. \n",
    "\n",
    "## Exercise 1 Updating the help in PowerShell\n",
    "\n",
    "1. Open a **Windows PowerShell console** in **admin** mode (right click run as administrator) directly on the lab hosting machine.\n",
    "2. Run the cmdlet **Update-Help** in your PowerShell console. It will download help files and documentation for all PowerShell modules on your machine. It might take some time and you may experience a few errors if some links are dead. \n",
    "3. Now try running the command Get-Help about_*\n",
    "4. If you get a long list of about articles you have successfully downloaded the help files in step 2. You are now ready to use the fantastic help features in PowerShell.\n",
    "\n",
    "The next 4 exercises focuses on Get-Help. It is the most important PowerShell cmdlet, because it lets you find cmdlets and it can explain how to use them.\n",
    "The bold words (fed skrift) in step 1 or 2 are hints. They may be part of the name of the cmdlet you are looking for.  \n",
    "\n",
    "\n",
    "## Exercise 2 Information about your machine\n",
    "\n",
    "1. Open the ISE and type a comment in the top of the powershell script pane e.g. # DAY 1 PowerShell Course Module 1 Exercise 2 \n",
    "2. Use Get-Help to find the name of a cmdlet which gives you a lot of **info** about your **computer**\n",
    "3. Type the name of the cmdlet you found and hit F1 in the ISE. A floating window with help about the cmdlet should popup.\n",
    "4. Study the syntax and example 1. This tells you that you can run the cmdlet directly without any parameters.\n",
    "5. Run the cmdlet in the ISE (Just use F8 if the cursor is on the line where you typed the cmdlet). You get a long list with a lot of properties with information about your computer. Notice it takes a while for PowerShell to collect all the information.\n",
    "6. Example 2 in the floating window shows you how this cmdlet lets you filter the properties using a wildcard search. Please use the cmdlet again on a new line using the **-property** parameter to show all properties with windows in the name. Make sure you also see the OsWindowsDirectory property in your output. You should get something similar to below.\n",
    "\n",
    "![image.png](attachment:image.png)\n",
    "\n",
    "## Exercise 3 Testing whether a path exists or not\n",
    "\n",
    "1. Use Get-Help to find a cmdlet which can **test** whether a given **path** exists on your disk drives.\n",
    "2. Study the help for the cmdlet. You realize it returns True or False if a folder/file path exists or not.\n",
    "3. Use the cmdlet to check whether you have a C:\\windows\\system32 folder. The result should be true.\n",
    "4. Use the cmdlet again to check whether you have a file called D:\\windows\\system32\\ipconfig.exe\n",
    "\n",
    "\n",
    "## Excercise 4\n",
    "\n",
    "1. In ISE use Get-Help to find a cmdlet which returns **ipaddresses** on your computer. Remember PowerShell cmdlets always use singularis nouns (ental) and Get cmdlets are the ones we use to retrieve information.\n",
    "2. Run the following command in ISE. This will open a browser with the help article for your cmdlet from step 1 (If the browser asks you to set the default search engine choose Google and set it as default)."
   ]
  },
  {
   "cell_type": "code",
   "execution_count": null,
   "id": "989375df-b4e4-4224-8a28-3f620da86290",
   "metadata": {
    "jupyter": {
     "outputs_hidden": false,
     "source_hidden": false
    },
    "microsoft": {
     "language": "python",
     "language_group": "synapse_pyspark"
    },
    "nteract": {
     "transient": {
      "deleting": false
     }
    }
   },
   "outputs": [],
   "source": [
    "Get-Help -online #Type the name of your cmdlet from step 1 here instead of this green comment#"
   ]
  },
  {
   "cell_type": "markdown",
   "id": "7b8dd52d-f6d1-4baa-a2fd-87347a9fff4d",
   "metadata": {
    "microsoft": {
     "language": "python",
     "language_group": "synapse_pyspark"
    },
    "nteract": {
     "transient": {
      "deleting": false
     }
    }
   },
   "source": [
    "3. Navigate to the cmdlet examples via the link in the right side of the browser page. Study the Example 1 in the help article in the browser. Type the example 1 code in ISE and notice the editor helps you with the syntax and options for the addressfamily parameter. **Please Do not just copy paste it.** Run the command to get a list of all ipv6 addresses on your computer.\n",
    "4. Write a similar cmdlet on the next line in the ISE to get all ipv4 addresses\n",
    "5. Run the cmdlet once more without any parameters. You get both ipv4 and ipv6 now. Identify the name of your ethernet connection.\n",
    "6. Run the cmdlet again for ipv4 family and with the interfacealias parameter and the name you identified in step 5. The name is a string - remember to use qoutes \"\" around the name if it contains a space (mellemrum).  \n",
    "\n",
    "## Exercise 5 Disabling a scheduled task\n",
    "\n",
    "1. Find a cmdlet which **disables** a **scheduled** **task**.\n",
    "2. You need to disable a scheduled task called XblGameSaveTask. If you try to disable it and only specify the name you get an error.\n",
    "3. Lookup all the scheduled tasks on the machine with another cmdlet. Note the path of the XblGameSaveTask\n",
    "4. Run the cmdlet from step 2 again but this time remember to specify the path for the task. Please be aware that you need admin priviliges in ISE/PowerShell console to disable a scheduled task in Windows. \n",
    "5. Finally check via PowerShell that the scheduled task is disabled.  \n",
    "\n",
    "\n",
    "## Exercise 6 Get-Command\n",
    "\n",
    "1. Our lab environment runs on a Windows Server where the **Hyper-V** role is installed. Roles and features in Windows have their own PowerShell modules, which are not included in a standard PowerShell installation. The relevant PowerShell modules are installed together with the role/feature. Run the following command to see all cmdlets available in the hyper-v module:    \n"
   ]
  },
  {
   "cell_type": "code",
   "execution_count": null,
   "id": "963a23d2-f4dc-46bd-b9ca-b928d5e7e52f",
   "metadata": {
    "jupyter": {
     "outputs_hidden": false,
     "source_hidden": false
    },
    "microsoft": {
     "language": "python",
     "language_group": "synapse_pyspark"
    },
    "nteract": {
     "transient": {
      "deleting": false
     }
    }
   },
   "outputs": [],
   "source": [
    "# list all cmdlets in the hyper-v module\n",
    "Get-Command -module hyper-v"
   ]
  },
  {
   "cell_type": "markdown",
   "id": "2b555f2a-232b-4eed-9395-b08ca9e1b3ef",
   "metadata": {
    "microsoft": {
     "language": "python",
     "language_group": "synapse_pyspark"
    },
    "nteract": {
     "transient": {
      "deleting": false
     }
    }
   },
   "source": [
    "2. Look at the long list of cmdlets from step 1. Notify what a virtual harddisk and a virtual machine are called in the PowerShell cmdlets. \n",
    "\n",
    "3. To list all PowerShell cmdlets in the module for a virtual harddisk you write:"
   ]
  },
  {
   "cell_type": "code",
   "execution_count": null,
   "id": "5e0a19ee-a3f0-4be8-925d-93f8b84a44f8",
   "metadata": {
    "jupyter": {
     "outputs_hidden": false,
     "source_hidden": false
    },
    "microsoft": {
     "language": "python",
     "language_group": "synapse_pyspark"
    },
    "nteract": {
     "transient": {
      "deleting": false
     }
    }
   },
   "outputs": [],
   "source": [
    "Get-Command -module hyper-v -noun vhd"
   ]
  },
  {
   "cell_type": "markdown",
   "id": "bf657d5d-8ef5-4c83-a2c0-a62d3b03d887",
   "metadata": {
    "microsoft": {
     "language": "python",
     "language_group": "synapse_pyspark"
    },
    "nteract": {
     "transient": {
      "deleting": false
     }
    }
   },
   "source": [
    "4. Adjust the command above to get all cmdlets for a virtual machine. You should see a list with 20 different cmdlets. \n",
    "5. Identify the cmdlet  which will show you a list of all the virtual machines. Run the cmdlet - you may consult the help for the cmdlet if you want.\n",
    "6. Find the cmdlet which can start a virtual machine in the list from step 4. \n",
    "7. Start the machine called LON-DC1\n",
    "8. Retrieve the list again with the virtual machines and notice that the State for LON-DC1 has changed.\n",
    "9. Start the NAT and the LON-CL1 machines in a single command  "
   ]
  },
  {
   "cell_type": "markdown",
   "id": "10bfd3ef-7b53-4456-a546-105a312d9f3e",
   "metadata": {
    "microsoft": {
     "language": "python",
     "language_group": "synapse_pyspark"
    },
    "nteract": {
     "transient": {
      "deleting": false
     }
    }
   },
   "source": [
    "## Exercise 7 PSReadline\n",
    "\n",
    "PSReadline is a helper module in the **console** which helps in command line editing. It is included in both Windows PowerShell and PowerShell 7. It also works in VSCode. You should spent time learning some shortcuts for this module if you often work in the console.   \n",
    "\n",
    "1. Open a Windows PowerShell console. Type Get-Help Test*connection\n",
    "2. Notice the first two suggestions Test-Connection and Test-NetConnection. They are very useful\n",
    "3. Type **Test-Connection -** (Rembember the dash/bindestreg and then hit ctrl-space)\n",
    "4. You should see a list wih all the available parameters for the Test-Connection cmdlet.\n",
    "5. Navigate in the list with the arrow keys. Notice it tells you the datatype for each parameter e.g ComputerName is string[] and Count is int and Quiet is a switch.\n",
    "6. Select ComputerName and hit Enter\n",
    "7. Type dr.dk as the value for the ComputerName parameter \n",
    "8. Type a dash/bindestreg again and hit ctrl-space\n",
    "9. Choose the Count parameter and give it a value of 2\n",
    "10. Run the command and notice it has functionalty similar to ping.exe\n",
    "11. Ctrl-space is just one shortcut from the PSReadline module. You can see all of them with this cmdlet: Get-PSReadlineKeyHandler\n",
    "\n",
    "## Exercise 8 The ISE PowerShell editor and about files\n",
    "\n",
    "**ISE** means Integrated Scripting Environment and it is a Windows application for **Windows PowerShell** scripts. ISE is an old editor but it has an advantage. It is always included in Windows Server and desktop when you have a GUI installation. It cannot run PowerShell 7 scripts.\n",
    " \n",
    "1. Open a PowerShell console.\n",
    "2. Read the help article about ISE with the command **Get-Help about_windows_powershell_ise** in the console.\n",
    "4. The help article is long. It might be easier to read it one page at a time. You can do this if you just type help without get- like this: **Help about_windows_powershell_ise** Read the last Notes section in the article. \n",
    "5. Type **ise** in your powershell console and hit enter. This will open ISE. You can of course also just open the application from the Windows start menu.\n"
   ]
  }
 ],
 "metadata": {
  "dependencies": {},
  "kernel_info": {
   "name": "synapse_pyspark"
  },
  "kernelspec": {
   "display_name": "Synapse PySpark",
   "language": "Python",
   "name": "synapse_pyspark"
  },
  "language_info": {
   "name": "python"
  },
  "microsoft": {
   "language": "python",
   "language_group": "synapse_pyspark",
   "ms_spell_check": {
    "ms_spell_check_language": "en"
   }
  },
  "nteract": {
   "version": "nteract-front-end@1.0.0"
  },
  "spark_compute": {
   "compute_id": "/trident/default"
  },
  "widgets": {}
 },
 "nbformat": 4,
 "nbformat_minor": 5
}
