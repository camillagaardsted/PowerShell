{
 "cells": [
  {
   "cell_type": "code",
   "execution_count": null,
   "metadata": {},
   "outputs": [],
   "source": []
  },
  {
   "cell_type": "markdown",
   "metadata": {},
   "source": [
    "# Module 3 Where-Object Exercises\n",
    "\n",
    "## Exercise 1 Local user accounts\n",
    "1.  Find a cmdlet to list all local user accounts that exist on the machine\n",
    "2.  Use Where-Object to filter the accounts, so you only list accounts which are enabled\n",
    "\n",
    "\n",
    "## Exercise 2 System32 folder\n",
    "\n",
    "1. List all exe files in the folder c:\\windows\\system32\n",
    "2. Limit the file list to only include files which starts with p (NB Always remember to put your filter as far to the left as possible)\n",
    "3. Now add a filter, so you only get files with a filename on 8 characters \n",
    "4. And a file size greater than 10KB (remember PowerShell accepts and understands 10KB with the unit)\n",
    "\n",
    "## Exercise 3 Long running processes\n",
    "\n",
    "1. Find processes on your local machine with WS (Working Set) greater than 100MB\n",
    "2. Limit your list of processes to those which have been running for more than 2 hours\n",
    "\n",
    "## Exercise 4 Windows hotfixes\n",
    "\n",
    "1. List all Windows Hotfixes on your computer with KB3 in the name\n",
    "2. Restrict the list to hotfixes which have been installed during the last year (extend the period if you don't get any)\n",
    "\n",
    "\n",
    "## Exercise 5 Grab you local ipaddress in a variable\n",
    "1. Find your local ipv4 address and save it in a variable called $myIPIaddress\n",
    "- Solve it without Where by using the filter parameters directly on the cmdlet\n",
    "- Solve it by recognizing the ipaddress if you know the range and there by the first characters\n",
    "2. Check the type for your variable by piping to gm (Get-Member). Is it a string or a more complex object? Make sure it is a string by expanding the propery if you did not do it in step 1.\n"
   ]
  },
  {
   "cell_type": "markdown",
   "metadata": {},
   "source": []
  }
 ],
 "metadata": {
  "language_info": {
   "name": "python"
  },
  "orig_nbformat": 4
 },
 "nbformat": 4,
 "nbformat_minor": 2
}
