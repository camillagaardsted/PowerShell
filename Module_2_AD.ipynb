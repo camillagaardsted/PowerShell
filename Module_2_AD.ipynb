{
 "cells": [
  {
   "cell_type": "markdown",
   "id": "a338d825-ce05-4056-b538-5895c002dc89",
   "metadata": {
    "microsoft": {
     "language": "python",
     "language_group": "synapse_pyspark"
    },
    "nteract": {
     "transient": {
      "deleting": false
     }
    }
   },
   "source": [
    "# PowerShell Active Directory lab\n",
    "\n",
    "## Exercise 1\n",
    "1. Create a variable called $credential and prompt the user to type input: adatum/administrator and Pa55w.rd as password.\n",
    "2. Create a 1:1 PowerShell session to LON-CL1 from the hyper-v host machine using the credential and the cmdlet Enter-PsSession.\n",
    "3. Run the Get-Command -Module ActiveDirectory\n",
    "This will list all cmdlets in the module. Study the different nouns (navneord) in the list to learn what each object is called in the AD.\n",
    "4. Find all users in the AD with a surname starting with T.\n",
    "5. Find the creation date for all users in the AD and list it together with the firstname, lastname, department\n",
    "6. List all users created before 1. January 2017.\n",
    "7. Assign all users from step 5 to a department called PowerShellOffice\n",
    "\n",
    "## Exercise 2\n",
    "1. Create a global security group called Aarhus in the IT ou\n",
    "2. Create your self as a new user in the AD. Your login must be your initials. Name is the only mandatory parameter for a new user, but you may specify your firstname and lastname in the correct parameters.\n",
    "3. Find your self in the AD using your initials. Note your sid.\n",
    "4. Find your self in the AD using your sid.\n",
    "5. Add your self to the Aarhus group.\n",
    "6. Add all users with surname starting with T to the Aarhus group\n",
    "\n",
    "\n",
    "## Exercise 4\n",
    "1. Create a new organizational unit (ou) called DevelopmentOU under Adatum in the AD. \n",
    "2. Create a new computer called AARHUS-SQL in the DevelopmentOU\n",
    "3. Move your self to the DevelopmentOU\n",
    "\n"
   ]
  }
 ],
 "metadata": {
  "dependencies": {},
  "kernel_info": {
   "name": "synapse_pyspark"
  },
  "kernelspec": {
   "display_name": "synapse_pyspark",
   "name": "synapse_pyspark"
  },
  "language_info": {
   "name": "python"
  },
  "microsoft": {
   "language": "python",
   "language_group": "synapse_pyspark",
   "ms_spell_check": {
    "ms_spell_check_language": "en"
   }
  },
  "nteract": {
   "version": "nteract-front-end@1.0.0"
  },
  "spark_compute": {
   "compute_id": "/trident/default"
  },
  "widgets": {}
 },
 "nbformat": 4,
 "nbformat_minor": 5
}
