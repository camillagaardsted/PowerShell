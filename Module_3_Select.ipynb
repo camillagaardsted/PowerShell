{
 "cells": [
  {
   "attachments": {
    "image.png": {
     "image/png": "[encoded data removed]"
    }
   },
   "cell_type": "markdown",
   "id": "f96b85c5-20ec-455a-bf0e-a2f94aeeb9ba",
   "metadata": {
    "microsoft": {
     "language": "python",
     "language_group": "synapse_pyspark"
    },
    "nteract": {
     "transient": {
      "deleting": false
     }
    }
   },
   "source": [
    "# Module 3 Lab A Select-Object - Selecting properties\n",
    "\n",
    "This lab will take you through the different ways you can use the Select-Object cmdlet in PowerShell.\n",
    "\n",
    "## Exercise 1 Date information\n",
    "\n",
    "1. Run the PowerShell cmdlet which displays the current date and time\n",
    "2. Display the name of all properties and methods with Get-Member\n",
    "3. Sometimes it is easier just to study the properties directly for an object with Select *. Try that\n",
    "4. Display the name of the day and which number it is in this year\n",
    "5. Create a variable with the date for Christmas this year\n",
    "6. Compute how many days are left before Christmas \n",
    "\n",
    "## Exercise 2 Use the wildcard options\n",
    "\n",
    "1. Find all services with a name which starts with w\n",
    "2. Study the different properties for a service with Get-Member\n",
    "3. Show all properties which starts with s e.g starttype,status, etc for the services from step 1 .You can use the wildcard syntax for this.\n",
    "\n",
    "## Exercise 3 Select some file properties\n",
    "\n",
    "1. List all exe files in the folder C:\\windows\\System32\n",
    "2. Show the size, the filename, when the file was created and last time it was used.\n",
    "3. Show the 5 largest exe files from the list of files in step 2\n",
    "\n",
    "## Exercise 4 Distinct aliases\n",
    "\n",
    "1. Use a cmdlet to display all the different ipaddresses on your machine\n",
    "2. Show the distinct interface aliases. This means you only want to see each name once. There should be 4. \n",
    "\n",
    "![image.png](attachment:image.png)\n",
    "\n",
    "## Exercise 5 Select properties and calculate a property\n",
    "\n",
    "1. Run the Get-ComputerInfo cmdlet\n",
    "2. Select specific properties which gives the following information: The last time the machine was started, the language for the operating system, the name of the os product\n",
    "3. The OSUpTime tells us how long time the machine has been running. Try to calculate the same value using the not so pretty dictionary syntax for a calculated property.  \n",
    "\n",
    "\n",
    "## Exercise 6 The Windows Eventlog -  Skip, index, first and last\n",
    "\n",
    "1. Fetch all events from the Windows application log using the Get-WinEvent cmdlet. It will take a while (NB The old Get-Evenlog cmdlet is deprecated).  \n",
    "2. Count the number of events in step 1 by piping to Measure-Object. There should be above 6900\n",
    "3. Fetch only the latest 10 events from the application log using the first parameter for the Select-Object cmdlet.\n",
    "4. Specify you only want to see the creation time, id, log level, and message for the events.\n",
    "4. Some cmdlets may have a built-in option to filter and control the output. Use the MaxEvents parameter to specify a limit of 10. You will get the same result as step 3.\n",
    "5. Pick the events from step 4 which are Warning or Error by using an index between 0 and 9 to identity them in the list (array).\n",
    "6. Use the skip parameter to skip all events before the first Warning or Error. Just count and determine the value from the order of the current events.\n",
    "\n",
    "## Exercise 7 Expanding a single property\n",
    "\n",
    "1. Find all the ipaddresses for your machine \n",
    "2. Use the builtin properties on the cmdlet in step 1 to get your ip4 ethernet ipaddress\n",
    "3. Create a variable called $ipAddress and store the value from step 2 in it\n",
    "4. Check the datatype for your $ipAddress variable. It should be a string. Otherwise you need to expand your property in step 3. \n",
    "\n",
    "\n",
    "\n",
    "\n",
    "\n",
    "\n",
    "\n"
   ]
  },
  {
   "cell_type": "code",
   "execution_count": null,
   "id": "a66a0e93-025e-451f-86d2-1b722aba84f5",
   "metadata": {
    "jupyter": {
     "outputs_hidden": false,
     "source_hidden": false
    },
    "microsoft": {
     "language": "python",
     "language_group": "synapse_pyspark"
    },
    "nteract": {
     "transient": {
      "deleting": false
     }
    }
   },
   "outputs": [],
   "source": []
  }
 ],
 "metadata": {
  "dependencies": {},
  "kernel_info": {
   "name": "synapse_pyspark"
  },
  "kernelspec": {
   "display_name": "synapse_pyspark",
   "name": "synapse_pyspark"
  },
  "language_info": {
   "name": "python"
  },
  "microsoft": {
   "language": "python",
   "language_group": "synapse_pyspark",
   "ms_spell_check": {
    "ms_spell_check_language": "en"
   }
  },
  "nteract": {
   "version": "nteract-front-end@1.0.0"
  },
  "spark_compute": {
   "compute_id": "/trident/default"
  },
  "widgets": {}
 },
 "nbformat": 4,
 "nbformat_minor": 5
}
