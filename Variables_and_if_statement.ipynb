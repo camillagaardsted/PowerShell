{
 "cells": [
  {
   "cell_type": "markdown",
   "id": "95617276",
   "metadata": {},
   "source": [
    "\n",
    "# PowerShell Basics: Variables, Data Types, and Collections\n",
    "This notebook introduces fundamental PowerShell concepts including variables, data types (int, string, datetime), and collections (array, dictionary, listarray).\n"
   ]
  },
  {
   "cell_type": "markdown",
   "id": "f5530842",
   "metadata": {},
   "source": [
    "\n",
    "## Variables in PowerShell\n",
    "Variables in PowerShell are declared using the `$` symbol.\n",
    "```powershell\n",
    "$name = \"Alice\"\n",
    "$age = 30\n",
    "```\n",
    "\n",
    "## Data Types\n",
    "### Integer\n",
    "```powershell\n",
    "$number = 42\n",
    "\n",
    "if ($number -gt 40){\n",
    "    Write-Host \"$number is greater than 40\") \n",
    "}\n",
    "else{\n",
    "    Write-Host \"$number is less than or equal to 40\")\n",
    "}\n",
    "```\n",
    "\n",
    "# Exercise 1 Integers and the if statement\n",
    "* a) Create a variable called $year and assign the current year to it (Please use Get-Date and year property in stead of typing it hardcoded)\n",
    "* b) Create a variable called $isEven and assign it the value $year % 2\n",
    "* c) Create an if statement and write on the screen whether $year is odd/even. The syntax for the if statement is above. "
   ]
  },
  {
   "cell_type": "markdown",
   "id": "50c00f9c",
   "metadata": {
    "vscode": {
     "languageId": "plaintext"
    }
   },
   "source": [
    "# Exercise 2 Working with strings\n",
    "\n",
    "### String\n",
    "```powershell\n",
    "$text = \"Hello, PowerShell!\"\n",
    "# A string has a lot of build-in methods available through the . notation\n",
    "# many of those methods return a new string and does not change the variable\n",
    "Write-Output $text.ToUpper()\n",
    "Write-Output $text\n",
    "\n",
    "```\n",
    "\n",
    "\n",
    " * a) Create a variable $fullname with your firstname and lastname.\n",
    " * b) Print the $fullname in upper case on the screen\n",
    " * c) Convert the $fullname to lower case letters and overwrite the $fullname variable with that value\n",
    " * d) Replace all spaces in the name with underscore and overwrite the $fullname variable with this\n",
    " * e) Make a folder on the c-drive with the name from the $fullname variable\n"
   ]
  },
  {
   "cell_type": "markdown",
   "id": "22a8e07f",
   "metadata": {},
   "source": [
    "## Exercise 3 Using datetime values as filters\n",
    "* a) Save the current date in a variable called $today\n",
    "* b) Create another variable called $SevenDaysAgo and assign it a value using the $today variable and one of it's methods\n",
    "* c) Use the Get-Eventlog cmdlet to fetch all errors from the system log in the last 7 days (figure out which parameters should receive your two datetime variables) "
   ]
  },
  {
   "cell_type": "markdown",
   "id": "1d9e7066",
   "metadata": {},
   "source": [
    "\n",
    "\n",
    "\n",
    "## Collections\n",
    "### Array\n",
    "```powershell\n",
    "$fruits = @(\"apple\", \"banana\", \"cherry\")\n",
    "foreach ($fruit in $fruits) {\n",
    "    Write-Output $fruit\n",
    "}\n",
    "```\n",
    "\n",
    "### Dictionary (Hashtable)\n",
    "```powershell\n",
    "$person = @{Name = \"Bob\"; Age = 25}\n",
    "Write-Output $person[\"Name\"]\n",
    "Write-Output $person[\"Age\"]\n",
    "```\n",
    "\n",
    "### ListArray (ArrayList)\n",
    "```powershell\n",
    "$list = New-Object System.Collections.ArrayList\n",
    "$list.Add(\"item1\") | Out-Null\n",
    "$list.Add(\"item2\") | Out-Null\n",
    "foreach ($item in $list) {\n",
    "    Write-Output $item\n",
    "}\n",
    "```\n",
    "\n",
    "## Exercise 4\n",
    "\n",
    "* a) Create a variable called $folders which contains the name and creationtime for all folders on the C-drive root\n",
    "* b) Use the square bracket notation (e.g. []) to lookup element number 5 in the $folders array\n",
    "* c) Check with Get-Member that you have two properties for your $folders array - you have name and creationtime\n",
    "* d) Create another array called $foldernames_only with the expanded property of the name from the $folders array \n",
    "* e) Use the in operator to check whether Windows is an element in the $foldernames_only array\n",
    "* f) Use the in operator to check whether Temp is an element in the $foldernames_only array\n"
   ]
  }
 ],
 "metadata": {
  "language_info": {
   "name": "python"
  }
 },
 "nbformat": 4,
 "nbformat_minor": 5
}
